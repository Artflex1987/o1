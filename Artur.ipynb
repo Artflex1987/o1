{
  "nbformat": 4,
  "nbformat_minor": 0,
  "metadata": {
    "colab": {
      "name": "Artur",
      "provenance": [],
      "collapsed_sections": [],
      "authorship_tag": "ABX9TyOo4xB0jxxoeBrtp+JUEW3N",
      "include_colab_link": true
    },
    "kernelspec": {
      "name": "python3",
      "display_name": "Python 3"
    }
  },
  "cells": [
    {
      "cell_type": "markdown",
      "metadata": {
        "id": "view-in-github",
        "colab_type": "text"
      },
      "source": [
        "<a href=\"https://colab.research.google.com/github/Artflex1987/o1/blob/master/Artur.ipynb\" target=\"_parent\"><img src=\"https://colab.research.google.com/assets/colab-badge.svg\" alt=\"Open In Colab\"/></a>"
      ]
    },
    {
      "cell_type": "code",
      "metadata": {
        "id": "LbdjCYQCww4s",
        "colab_type": "code",
        "colab": {
          "base_uri": "https://localhost:8080/",
          "height": 68
        },
        "outputId": "b62da6f2-6853-4960-9d3a-44eb43fdfcc4"
      },
      "source": [
        "### isto é um comando de saída\n",
        "print(\"olá mundo cruel!!!\")\n",
        "print(\"cruel word!!!\")\n",
        "print (\"'com aspas dupla'\")\n",
        "\n",
        "# a hastag é um comentário no código, ou seja, o programa não irá processar nenhuma linha que estiver marcada\n",
        "# o comando print() mostra na tela, ou seja, é uma saída de valor(es).\n",
        "# o conteúdo texto deve estar entre aspas (simples ou dupla)\n",
        "\n"
      ],
      "execution_count": 6,
      "outputs": [
        {
          "output_type": "stream",
          "text": [
            "olá mundo cruel!!!\n",
            "cruel word!!!\n",
            "'com aspas dupla'\n"
          ],
          "name": "stdout"
        }
      ]
    }
  ]
}